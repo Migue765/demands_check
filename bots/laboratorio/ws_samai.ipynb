{
 "cells": [
  {
   "cell_type": "markdown",
   "metadata": {},
   "source": [
    "## Declaración de librerias"
   ]
  },
  {
   "cell_type": "code",
   "execution_count": 2,
   "metadata": {},
   "outputs": [],
   "source": [
    "from selenium import webdriver\n",
    "from selenium.webdriver.common.by import By\n",
    "from selenium.webdriver.support.ui import WebDriverWait\n",
    "from selenium.webdriver.support import expected_conditions as EC\n",
    "from selenium.webdriver.chrome.service import Service\n",
    "from selenium.webdriver.support.ui import Select\n",
    "from webdriver_manager.chrome  import ChromeDriverManager\n",
    "from bs4 import BeautifulSoup as bs\n",
    "import time"
   ]
  },
  {
   "cell_type": "markdown",
   "metadata": {},
   "source": [
    "## Configuracion webdriver"
   ]
  },
  {
   "cell_type": "code",
   "execution_count": 3,
   "metadata": {},
   "outputs": [],
   "source": [
    "class webScraping:\n",
    "\n",
    "    def __init__(self):\n",
    "        options = webdriver.ChromeOptions()\n",
    "        user_agent = 'Mozilla/5.0 (X11; Linux x86_64) AppleWebKit/537.36 (KHTML, like Gecko) Chrome/60.0.3112.50 Safari/537.36'\n",
    "        options.add_argument(f'user-agent={user_agent}')\n",
    "        options.add_argument('--no-sandbox')\n",
    "        options.add_argument('--window-size=1920,1080')\n",
    "        # options.add_argument('--headless')\n",
    "        # options.add_argument('--disable-gpu')\n",
    "        # options.add_argument('--allow-running-insecure-content')\n",
    "        self.driver = webdriver.Chrome(options=options, service=Service(ChromeDriverManager().install()))\n",
    "\n",
    "\n",
    "    def insert_keys(self, driver, xpath, keys, wait_time=1):\n",
    "        WebDriverWait(driver, wait_time).until(EC.element_to_be_clickable((By.XPATH, xpath))).send_keys(keys)\n",
    "\n",
    "\n",
    "    def click(self, driver, xpath, wait_time=1):\n",
    "        WebDriverWait(driver, wait_time).until(EC.element_to_be_clickable((By.XPATH, xpath))).click()\n"
   ]
  },
  {
   "cell_type": "markdown",
   "metadata": {},
   "source": [
    "# Samui"
   ]
  },
  {
   "cell_type": "code",
   "execution_count": 4,
   "metadata": {},
   "outputs": [],
   "source": [
    "botSamai = webScraping()\n",
    "botSamai.driver.get('https://samai.consejodeestado.gov.co/Vistas/Casos/procesos.aspx')\n"
   ]
  },
  {
   "cell_type": "markdown",
   "metadata": {},
   "source": [
    "Declaro variables para el seguimiento del caso"
   ]
  },
  {
   "cell_type": "code",
   "execution_count": 5,
   "metadata": {},
   "outputs": [],
   "source": [
    "field = '76001233300020200108900'\n",
    "institution = 'TRIBUNAL ADMINISTRATIVO DEL VALLE DEL CAUCA'"
   ]
  },
  {
   "cell_type": "markdown",
   "metadata": {},
   "source": [
    "Identifico el elemento dropdown para seleccionar las opciones"
   ]
  },
  {
   "cell_type": "code",
   "execution_count": 6,
   "metadata": {},
   "outputs": [
    {
     "name": "stdout",
     "output_type": "stream",
     "text": [
      "[['--Seleccione--', ''], ['Consejo de Estado', '1100103'], ['Juzgado Administrativo de Aguachica', '2001133'], ['Juzgado Administrativo de Arauca', '8100133'], ['Juzgado Administrativo de Armenia', '6300133'], ['Juzgado Administrativo de Barrancabermeja', '6808133'], ['Juzgado Administrativo de Barranquilla', '0800133'], ['Juzgado Administrativo de Bogotá (Pilotos)', '1100133'], ['Juzgado Administrativo de Bucaramanga', '6800133'], ['Juzgado Administrativo de Buenaventura', '7610933'], ['Juzgado Administrativo de Buga', '7611133'], ['Juzgado Administrativo de Cali', '7600133'], ['Juzgado Administrativo de Cartagena', '1300133'], ['Juzgado Administrativo de Cartago', '7614733'], ['Juzgado Administrativo de Cúcuta', '5400133'], ['Juzgado Administrativo de Duitama', '1523833'], ['Juzgado Administrativo de Facatativá', '2526933'], ['Juzgado Administrativo de Florencia', '1800133'], ['Juzgado Administrativo de Girardot', '2530733'], ['Juzgado Administrativo de Ibagué', '7300133'], ['Juzgado Administrativo de Leticia', '9100133'], ['Juzgado Administrativo de Magangué', '1343033'], ['Juzgado Administrativo de Medellín', '0500133'], ['Juzgado Administrativo de Mocoa', '8600133'], ['Juzgado Administrativo de Montería', '2300133'], ['Juzgado Administrativo de Neiva', '4100133'], ['Juzgado Administrativo de Ocaña', '5449833'], ['Juzgado Administrativo de Pamplona', '5451833'], ['Juzgado Administrativo de Pasto', '5200133'], ['Juzgado Administrativo de Pereira ', '6600133'], ['Juzgado Administrativo de Popayán', '1900133'], ['Juzgado Administrativo de Quibdó', '2700133'], ['Juzgado Administrativo de Riohacha', '4400133'], ['Juzgado Administrativo de San Andrés', '8800133'], ['Juzgado Administrativo de San Gil', '6867933'], ['Juzgado Administrativo de San José del Guaviare', '9500133'], ['Juzgado Administrativo de Santa Marta', '4700133'], ['Juzgado Administrativo de Sincelejo', '7000133'], ['Juzgado Administrativo de Sogamoso', '1575933'], ['Juzgado Administrativo de Tumaco', '5283533'], ['Juzgado Administrativo de Tunja', '1500133'], ['Juzgado Administrativo de Turbo', '0583733'], ['Juzgado Administrativo de Valledupar', '2000133'], ['Juzgado Administrativo de Villavicencio', '5000133'], ['Juzgado Administrativo de Yopal', '8500133'], ['Juzgado Administrativo de Zipaquirá', '2589933'], ['Tribunal Administrativo de Antioquia', '0500123'], ['Tribunal Administrativo de Arauca', '8100123'], ['Tribunal Administrativo de Bolívar', '1300123'], ['Tribunal Administrativo de Boyacá', '1500123'], ['Tribunal Administrativo de Córdoba', '2300123'], ['Tribunal Administrativo de Cundinamarca', '2500023'], ['Tribunal Administrativo de la Guajira', '4400123'], ['Tribunal Administrativo de Nariño ', '5200123'], ['Tribunal Administrativo de Norte de Santander', '5400123'], ['Tribunal Administrativo de Risaralda', '6600123'], ['Tribunal Administrativo de San Andrés', '8800123'], ['Tribunal Administrativo de Santander', '6800123'], ['Tribunal Administrativo de Sucre', '7000123'], ['Tribunal Administrativo del Atlántico', '0800123'], ['Tribunal Administrativo del Caquetá', '1800123'], ['Tribunal Administrativo del Casanare', '8500123'], ['Tribunal Administrativo del Cauca', '1900123'], ['Tribunal Administrativo del Cesar', '2000123'], ['Tribunal Administrativo del Chocó', '2700123'], ['Tribunal Administrativo del Huila', '4100123'], ['Tribunal Administrativo del Magdalena', '4700123'], ['Tribunal Administrativo del Meta', '5000123'], ['Tribunal Administrativo del Quindío', '6300123'], ['Tribunal Administrativo del Tolima', '7300123'], ['Tribunal Administrativo del Valle del Cauca', '7600123'], ['xJAMANI (Sólo para pruebas internas)', '1700133'], ['xTACALD (Sólo para pruebas internas)', '1700123']]\n"
     ]
    }
   ],
   "source": [
    "botSamai.insert_keys(botSamai.driver, '/html/body/form/div[4]/div[3]/div[1]/div[3]/input', field)\n",
    "soup = bs(botSamai.driver.page_source, 'html.parser')\n",
    "dropdown_element = soup.find('div', id='DIV_FW_LstCorporacion')\n",
    "list_institutions = [[option.text, option.get('value')] for option in dropdown_element.find_all(\"option\")]\n",
    "print(list_institutions)"
   ]
  },
  {
   "cell_type": "markdown",
   "metadata": {},
   "source": [
    "A partir de la variable de entrada de la institucion en donde se va a consultar, obtengo el id de la misma"
   ]
  },
  {
   "cell_type": "code",
   "execution_count": 7,
   "metadata": {},
   "outputs": [],
   "source": [
    "# Buscar el segundo parámetro si el primer parámetro es igual al texto buscado\n",
    "for elemento in list_institutions:\n",
    "    if elemento[0].upper() == institution:\n",
    "        id_institution = elemento[1]\n",
    "        break\n",
    "else:\n",
    "    id_institution = None  # Si no se encontró el texto, establece el segundo parámetro en None\n",
    "\n"
   ]
  },
  {
   "cell_type": "markdown",
   "metadata": {},
   "source": [
    "Finalmente selecciono la opción de la institucion"
   ]
  },
  {
   "cell_type": "code",
   "execution_count": 8,
   "metadata": {},
   "outputs": [],
   "source": [
    "dropdown_element = botSamai.driver.find_element(By.ID, 'FW_LstCorporacion')\n",
    "select_institution = Select(dropdown_element)\n",
    "select_institution.select_by_value(id_institution)"
   ]
  },
  {
   "cell_type": "markdown",
   "metadata": {},
   "source": [
    "Hago click en enviar registro"
   ]
  },
  {
   "cell_type": "code",
   "execution_count": 9,
   "metadata": {},
   "outputs": [],
   "source": [
    "botSamai.click(botSamai.driver, '/html/body/form/div[4]/div[3]/div[1]/button[2]')"
   ]
  },
  {
   "cell_type": "markdown",
   "metadata": {},
   "source": [
    "Busco en la tabla resultados le radicado"
   ]
  },
  {
   "cell_type": "markdown",
   "metadata": {},
   "source": [
    "tabla_resultados"
   ]
  },
  {
   "cell_type": "code",
   "execution_count": 10,
   "metadata": {},
   "outputs": [],
   "source": [
    "tabla_resultados = botSamai.driver.find_element(By.ID, 'DT_listadoprocs')"
   ]
  },
  {
   "cell_type": "code",
   "execution_count": 11,
   "metadata": {},
   "outputs": [
    {
     "ename": "SyntaxError",
     "evalue": "invalid syntax (3748996189.py, line 7)",
     "output_type": "error",
     "traceback": [
      "\u001b[1;36m  Cell \u001b[1;32mIn[11], line 7\u001b[1;36m\u001b[0m\n\u001b[1;33m    result =\u001b[0m\n\u001b[1;37m             ^\u001b[0m\n\u001b[1;31mSyntaxError\u001b[0m\u001b[1;31m:\u001b[0m invalid syntax\n"
     ]
    }
   ],
   "source": [
    "page = bs(botSamai.driver.page_source, 'html.parser')\n",
    "results_details = page.find('div', class_='titlesimple_overflow')\n",
    "table_result = results_details.find('table', id='DT_listadoprocs')\n",
    "if table_result is not None:\n",
    "    print(\"Parametros enviados corrctamente\")\n",
    "    results = table_result.find('tbody', class_='odd').find_all('tr')[0].find_all('td')\n",
    "    result = \n",
    "print(results_details)"
   ]
  },
  {
   "cell_type": "code",
   "execution_count": 2,
   "metadata": {},
   "outputs": [],
   "source": [
    "from selenium import webdriver\n",
    "from selenium.webdriver.common.by import By\n",
    "from selenium.webdriver.support.ui import WebDriverWait\n",
    "from selenium.webdriver.support import expected_conditions as EC\n",
    "from selenium.webdriver.chrome.service import Service\n",
    "from webdriver_manager.chrome  import ChromeDriverManager\n",
    "from bs4 import BeautifulSoup as bs\n",
    "import time\n",
    "import sqlite3\n",
    "\n",
    "# Establecer una conexión a la base de datos SQLite\n",
    "conn = sqlite3.connect(\"../../mydatabase.db\")\n",
    "cursor = conn.cursor()\n",
    "\n",
    "options = webdriver.ChromeOptions()\n",
    "user_agent = 'Mozilla/5.0 (X11; Linux x86_64) AppleWebKit/537.36 (KHTML, like Gecko) Chrome/60.0.3112.50 Safari/537.36'\n",
    "options.add_argument(f'user-agent={user_agent}')\n",
    "options.add_argument('--no-sandbox')\n",
    "options.add_argument('--window-size=1920,1080')\n",
    "# options.add_argument('--headless')\n",
    "# options.add_argument('--disable-gpu')\n",
    "# options.add_argument('--allow-running-insecure-content')\n",
    "driver = webdriver.Chrome(options=options, service=Service(ChromeDriverManager().install()))\n",
    "\n",
    "\n",
    "def wait_and_send_keys(driver, xpath, keys, wait_time=1):\n",
    "    WebDriverWait(driver, wait_time).until(EC.element_to_be_clickable((By.XPATH, xpath))).send_keys(keys)\n",
    "\n",
    "\n",
    "def wait_and_click(driver, xpath, wait_time=1):\n",
    "    WebDriverWait(driver, wait_time).until(EC.element_to_be_clickable((By.XPATH, xpath))).click()\n",
    "\n",
    "#Variables de busqueda\n",
    "field = '76001233300020200108900'\n",
    "institution = 'TRIBUNAL ADMINISTRATIVO DEL VALLE DEL CAUCA'\n",
    "\n",
    "# Ejecutar una consulta SQL para obtener el id_samui cuando name coincide\n",
    "query = \"SELECT id_samui FROM institutions WHERE name = ?\"\n",
    "cursor.execute(query, (institution,))\n",
    "\n",
    "# Obtener el resultado de la consulta\n",
    "resultado = cursor.fetchone()\n",
    "\n",
    "# Cerrar la conexión a la base de datos\n",
    "conn.close()\n",
    "\n",
    "# Verificar si se encontró un resultado\n",
    "if resultado is not None:\n",
    "    id_proceso = field+str(resultado[0])\n",
    "    url = 'https://samai.consejodeestado.gov.co/Vistas/Casos/list_procesos.aspx?guid='+id_proceso\n",
    "    driver.get(url)\n",
    "    soup = bs(driver.page_source, 'html.parser')\n",
    "\n",
    "    #leo el captcha\n",
    "    id_1 = soup.find('span', id='MainContent_Lbldato1').text\n",
    "    id_2 = soup.find('span', id='MainContent_Lbldato2').text\n",
    "    id_3 = soup.find('span', id='MainContent_Lbldato3').text\n",
    "    \n",
    "    keys = id_1+id_2+id_3\n",
    "    wait_and_send_keys(driver, '/html/body/form/div[4]/div[4]/div/table/tbody/tr/td[1]/input', keys)\n",
    "\n",
    "    wait_and_click(driver, '/html/body/form/div[4]/div[4]/div/input')\n",
    "\n",
    "    actions_table = bs(driver.page_source, 'html.parser').find('table', class_='table table-striped table-hover table-sm small')\n",
    "    list_actios = actions_table.find_all('tr')\n",
    "\n",
    "else:\n",
    "    print(f\"No se encontró ningún resultado para '{nombre_a_buscar}' (not found)\")\n",
    "\n",
    "\n"
   ]
  }
 ],
 "metadata": {
  "kernelspec": {
   "display_name": "Python 3",
   "language": "python",
   "name": "python3"
  },
  "language_info": {
   "codemirror_mode": {
    "name": "ipython",
    "version": 3
   },
   "file_extension": ".py",
   "mimetype": "text/x-python",
   "name": "python",
   "nbconvert_exporter": "python",
   "pygments_lexer": "ipython3",
   "version": "3.12.0"
  }
 },
 "nbformat": 4,
 "nbformat_minor": 2
}
